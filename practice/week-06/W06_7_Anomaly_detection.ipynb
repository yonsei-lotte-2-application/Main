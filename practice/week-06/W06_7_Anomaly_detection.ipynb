{
 "cells": [
  {
   "cell_type": "markdown",
   "metadata": {},
   "source": [
    "# BIG DATA ANALYTICS PROGRAMMING : Anomaly Detection\n",
    "---\n",
    "References\n",
    "- https://github.com/ritvikmath/Time-Series-Analysis"
   ]
  },
  {
   "cell_type": "code",
   "execution_count": null,
   "metadata": {},
   "outputs": [],
   "source": [
    "import pandas as pd\n",
    "import numpy as np\n",
    "import matplotlib.pyplot as plt\n",
    "from datetime import datetime\n",
    "from datetime import timedelta\n",
    "from pandas.plotting import register_matplotlib_converters\n",
    "from statsmodels.tsa.stattools import acf, pacf\n",
    "from statsmodels.tsa.statespace.sarimax import SARIMAX\n",
    "register_matplotlib_converters()\n",
    "from time import time"
   ]
  },
  {
   "cell_type": "markdown",
   "metadata": {},
   "source": [
    "# Catfish Sales Data"
   ]
  },
  {
   "cell_type": "code",
   "execution_count": null,
   "metadata": {},
   "outputs": [],
   "source": [
    "def parser(s):\n",
    "    return datetime.strptime(s, '%Y-%m-%d')"
   ]
  },
  {
   "cell_type": "code",
   "execution_count": null,
   "metadata": {},
   "outputs": [],
   "source": [
    "#read data\n",
    "catfish_sales = pd.read_csv('catfish.csv', parse_dates=[0], index_col=0, squeeze=True, date_parser=parser)"
   ]
  },
  {
   "cell_type": "code",
   "execution_count": null,
   "metadata": {},
   "outputs": [],
   "source": [
    "#infer the frequency of the data\n",
    "catfish_sales = catfish_sales.asfreq(pd.infer_freq(catfish_sales.index))"
   ]
  },
  {
   "cell_type": "code",
   "execution_count": null,
   "metadata": {},
   "outputs": [],
   "source": [
    "start_date = datetime(1996,1,1)\n",
    "end_date = datetime(2000,1,1)\n",
    "lim_catfish_sales = catfish_sales[start_date:end_date]"
   ]
  },
  {
   "cell_type": "raw",
   "metadata": {},
   "source": [
    "Introduce an Anomaly"
   ]
  },
  {
   "cell_type": "code",
   "execution_count": null,
   "metadata": {},
   "outputs": [],
   "source": [
    "#At December 1 1998\n",
    "lim_catfish_sales[datetime(1998,12,1)] = 10000"
   ]
  },
  {
   "cell_type": "code",
   "execution_count": null,
   "metadata": {},
   "outputs": [],
   "source": [
    "plt.figure(figsize=(10,4))\n",
    "plt.plot(lim_catfish_sales)\n",
    "plt.title('Catfish Sales in 1000s of Pounds', fontsize=20)\n",
    "plt.ylabel('Sales', fontsize=16)\n",
    "for year in range(start_date.year,end_date.year):\n",
    "    plt.axvline(pd.to_datetime(str(year)+'-01-01'), color='k', linestyle='--', alpha=0.2)"
   ]
  },
  {
   "cell_type": "markdown",
   "metadata": {},
   "source": [
    "## Remove the trend"
   ]
  },
  {
   "cell_type": "code",
   "execution_count": null,
   "metadata": {},
   "outputs": [],
   "source": [
    "first_diff = lim_catfish_sales.diff()[1:]"
   ]
  },
  {
   "cell_type": "code",
   "execution_count": null,
   "metadata": {},
   "outputs": [],
   "source": [
    "plt.figure(figsize=(10,4))\n",
    "plt.plot(first_diff)\n",
    "plt.title('Catfish Sales in 1000s of Pounds', fontsize=20)\n",
    "plt.ylabel('Sales', fontsize=16)\n",
    "for year in range(start_date.year,end_date.year):\n",
    "    plt.axvline(pd.to_datetime(str(year)+'-01-01'), color='k', linestyle='--', alpha=0.2)\n",
    "plt.axhline(0, color='k', linestyle='--', alpha=0.2)"
   ]
  },
  {
   "cell_type": "markdown",
   "metadata": {},
   "source": [
    "# Get training and testing sets"
   ]
  },
  {
   "cell_type": "code",
   "execution_count": null,
   "metadata": {},
   "outputs": [],
   "source": [
    "train_end = datetime(1999,7,1)\n",
    "test_end = datetime(2000,1,1)\n",
    "\n",
    "test_data = lim_catfish_sales[train_end + timedelta(days=1):test_end]"
   ]
  },
  {
   "cell_type": "markdown",
   "metadata": {},
   "source": [
    "# Make Predictions"
   ]
  },
  {
   "cell_type": "code",
   "execution_count": null,
   "metadata": {},
   "outputs": [],
   "source": [
    "my_order = (0,1,0)\n",
    "my_seasonal_order = (1, 0, 1, 12)"
   ]
  },
  {
   "cell_type": "code",
   "execution_count": null,
   "metadata": {},
   "outputs": [],
   "source": [
    "rolling_predictions = test_data.copy()\n",
    "for train_end in test_data.index:\n",
    "    train_data = lim_catfish_sales[:train_end-timedelta(days=1)]\n",
    "    model = SARIMAX(train_data, order=my_order, seasonal_order=my_seasonal_order)\n",
    "    model_fit = model.fit()\n",
    "\n",
    "    pred = model_fit.forecast()\n",
    "    rolling_predictions[train_end] = pred"
   ]
  },
  {
   "cell_type": "code",
   "execution_count": null,
   "metadata": {},
   "outputs": [],
   "source": [
    "rolling_residuals = test_data - rolling_predictions"
   ]
  },
  {
   "cell_type": "code",
   "execution_count": null,
   "metadata": {},
   "outputs": [],
   "source": [
    "plt.figure(figsize=(10,4))\n",
    "plt.plot(rolling_residuals)\n",
    "plt.axhline(0, linestyle='--', color='k')\n",
    "plt.title('Rolling Forecast Residuals from SARIMA Model', fontsize=20)\n",
    "plt.ylabel('Error', fontsize=16)"
   ]
  },
  {
   "cell_type": "code",
   "execution_count": null,
   "metadata": {},
   "outputs": [],
   "source": [
    "plt.figure(figsize=(10,4))\n",
    "\n",
    "plt.plot(lim_catfish_sales)\n",
    "plt.plot(rolling_predictions)\n",
    "\n",
    "plt.legend(('Data', 'Predictions'), fontsize=16)\n",
    "\n",
    "plt.title('Catfish Sales in 1000s of Pounds', fontsize=20)\n",
    "plt.ylabel('Production', fontsize=16)\n",
    "for year in range(start_date.year,end_date.year):\n",
    "    plt.axvline(pd.to_datetime(str(year)+'-01-01'), color='k', linestyle='--', alpha=0.2)"
   ]
  },
  {
   "cell_type": "code",
   "execution_count": null,
   "metadata": {},
   "outputs": [],
   "source": [
    "print('Mean Absolute Percent Error:', round(np.mean(abs(rolling_residuals/test_data)),4))"
   ]
  },
  {
   "cell_type": "code",
   "execution_count": null,
   "metadata": {},
   "outputs": [],
   "source": [
    "print('Root Mean Squared Error:', np.sqrt(np.mean(rolling_residuals**2)))"
   ]
  },
  {
   "cell_type": "markdown",
   "metadata": {},
   "source": [
    "# Detecting the Anomaly"
   ]
  },
  {
   "cell_type": "markdown",
   "metadata": {},
   "source": [
    "## Attempt 1: Deviation Method"
   ]
  },
  {
   "cell_type": "code",
   "execution_count": null,
   "metadata": {},
   "outputs": [],
   "source": [
    "plt.figure(figsize=(10,4))\n",
    "plt.plot(lim_catfish_sales)\n",
    "plt.title('Catfish Sales in 1000s of Pounds', fontsize=20)\n",
    "plt.ylabel('Sales', fontsize=16)\n",
    "for year in range(start_date.year,end_date.year):\n",
    "    plt.axvline(pd.to_datetime(str(year)+'-01-01'), color='k', linestyle='--', alpha=0.2)"
   ]
  },
  {
   "cell_type": "code",
   "execution_count": null,
   "metadata": {},
   "outputs": [],
   "source": [
    "rolling_deviations = pd.Series(dtype=float, index = lim_catfish_sales.index)"
   ]
  },
  {
   "cell_type": "code",
   "execution_count": null,
   "metadata": {},
   "outputs": [],
   "source": [
    "for date in rolling_deviations.index:\n",
    "    #get the window ending at this data point\n",
    "    window = lim_catfish_sales.loc[:date]\n",
    "    \n",
    "    #get the deviation within this window\n",
    "    rolling_deviations.loc[date] = window.std()"
   ]
  },
  {
   "cell_type": "code",
   "execution_count": null,
   "metadata": {},
   "outputs": [],
   "source": [
    "#get the difference in deviation between one time point and the next\n",
    "diff_rolling_deviations = rolling_deviations.diff()\n",
    "diff_rolling_deviations = diff_rolling_deviations.dropna()"
   ]
  },
  {
   "cell_type": "code",
   "execution_count": null,
   "metadata": {},
   "outputs": [],
   "source": [
    "plt.figure(figsize=(10,4))\n",
    "plt.plot(diff_rolling_deviations)\n",
    "plt.title('Deviation Differences', fontsize=20)\n",
    "plt.ylabel('Sales', fontsize=16)\n",
    "for year in range(start_date.year,end_date.year):\n",
    "    plt.axvline(pd.to_datetime(str(year)+'-01-01'), color='k', linestyle='--', alpha=0.2)"
   ]
  },
  {
   "cell_type": "markdown",
   "metadata": {},
   "source": [
    "## Attempt 2: Seasonal Method"
   ]
  },
  {
   "cell_type": "code",
   "execution_count": null,
   "metadata": {},
   "outputs": [],
   "source": [
    "month_deviations = lim_catfish_sales.groupby(lambda d: d.month).std()"
   ]
  },
  {
   "cell_type": "code",
   "execution_count": null,
   "metadata": {},
   "outputs": [],
   "source": [
    "plt.figure(figsize=(10,4))\n",
    "plt.plot(month_deviations)\n",
    "plt.title('Deviation by Month', fontsize=20)\n",
    "plt.ylabel('Sales', fontsize=16)"
   ]
  },
  {
   "cell_type": "markdown",
   "metadata": {},
   "source": [
    "## So, the anomaly occurs in a December"
   ]
  },
  {
   "cell_type": "code",
   "execution_count": null,
   "metadata": {},
   "outputs": [],
   "source": [
    "december_data = lim_catfish_sales[lim_catfish_sales.index.month == 12]"
   ]
  },
  {
   "cell_type": "code",
   "execution_count": null,
   "metadata": {},
   "outputs": [],
   "source": [
    "december_data"
   ]
  },
  {
   "cell_type": "code",
   "execution_count": null,
   "metadata": {},
   "outputs": [],
   "source": [
    "min_dev = 9999999\n",
    "curr_anomaly = None\n",
    "for date in december_data.index:\n",
    "    other_data = december_data[december_data.index != date]\n",
    "    curr_dev = other_data.std()\n",
    "    if curr_dev < min_dev:\n",
    "        min_dev = curr_dev\n",
    "        curr_anomaly = date"
   ]
  },
  {
   "cell_type": "code",
   "execution_count": null,
   "metadata": {},
   "outputs": [],
   "source": [
    "curr_anomaly"
   ]
  },
  {
   "cell_type": "markdown",
   "metadata": {},
   "source": [
    "# What to do about the anomaly?"
   ]
  },
  {
   "cell_type": "markdown",
   "metadata": {},
   "source": [
    "## Simple Idea: use mean of other months"
   ]
  },
  {
   "cell_type": "code",
   "execution_count": null,
   "metadata": {},
   "outputs": [],
   "source": [
    "adjusted_data = lim_catfish_sales.copy()\n",
    "adjusted_data.loc[curr_anomaly] = december_data[(december_data.index != curr_anomaly) & (december_data.index < test_data.index[0])].mean()"
   ]
  },
  {
   "cell_type": "code",
   "execution_count": null,
   "metadata": {},
   "outputs": [],
   "source": [
    "plt.figure(figsize=(10,4))\n",
    "plt.plot(lim_catfish_sales, color='firebrick', alpha=0.4)\n",
    "plt.plot(adjusted_data)\n",
    "plt.title('Catfish Sales in 1000s of Pounds', fontsize=20)\n",
    "plt.ylabel('Sales', fontsize=16)\n",
    "for year in range(start_date.year,end_date.year):\n",
    "    plt.axvline(pd.to_datetime(str(year)+'-01-01'), color='k', linestyle='--', alpha=0.2)\n",
    "plt.axvline(curr_anomaly, color='k', alpha=0.7)"
   ]
  },
  {
   "cell_type": "markdown",
   "metadata": {},
   "source": [
    "# Resulting Predictions"
   ]
  },
  {
   "cell_type": "code",
   "execution_count": null,
   "metadata": {},
   "outputs": [],
   "source": [
    "train_end = datetime(1999,7,1)\n",
    "test_end = datetime(2000,1,1)\n",
    "\n",
    "test_data = adjusted_data[train_end + timedelta(days=1):test_end]"
   ]
  },
  {
   "cell_type": "code",
   "execution_count": null,
   "metadata": {},
   "outputs": [],
   "source": [
    "rolling_predictions = test_data.copy()\n",
    "for train_end in test_data.index:\n",
    "    train_data = adjusted_data[:train_end-timedelta(days=1)]\n",
    "    model = SARIMAX(train_data, order=my_order, seasonal_order=my_seasonal_order)\n",
    "    model_fit = model.fit()\n",
    "\n",
    "    pred = model_fit.forecast()\n",
    "    rolling_predictions[train_end] = pred"
   ]
  },
  {
   "cell_type": "code",
   "execution_count": null,
   "metadata": {},
   "outputs": [],
   "source": [
    "rolling_residuals = test_data - rolling_predictions"
   ]
  },
  {
   "cell_type": "code",
   "execution_count": null,
   "metadata": {},
   "outputs": [],
   "source": [
    "plt.figure(figsize=(10,4))\n",
    "plt.plot(rolling_residuals)\n",
    "plt.axhline(0, linestyle='--', color='k')\n",
    "plt.title('Rolling Forecast Residuals from SARIMA Model', fontsize=20)\n",
    "plt.ylabel('Error', fontsize=16)"
   ]
  },
  {
   "cell_type": "code",
   "execution_count": null,
   "metadata": {},
   "outputs": [],
   "source": [
    "plt.figure(figsize=(10,4))\n",
    "\n",
    "plt.plot(lim_catfish_sales)\n",
    "plt.plot(rolling_predictions)\n",
    "\n",
    "plt.legend(('Data', 'Predictions'), fontsize=16)\n",
    "\n",
    "plt.title('Catfish Sales in 1000s of Pounds', fontsize=20)\n",
    "plt.ylabel('Production', fontsize=16)\n",
    "for year in range(start_date.year,end_date.year):\n",
    "    plt.axvline(pd.to_datetime(str(year)+'-01-01'), color='k', linestyle='--', alpha=0.2)"
   ]
  },
  {
   "cell_type": "code",
   "execution_count": null,
   "metadata": {},
   "outputs": [],
   "source": [
    "print('Mean Absolute Percent Error:', round(np.mean(abs(rolling_residuals/test_data)),4))"
   ]
  },
  {
   "cell_type": "code",
   "execution_count": null,
   "metadata": {},
   "outputs": [],
   "source": [
    "print('Root Mean Squared Error:', np.sqrt(np.mean(rolling_residuals**2)))"
   ]
  },
  {
   "cell_type": "code",
   "execution_count": null,
   "metadata": {},
   "outputs": [],
   "source": []
  }
 ],
 "metadata": {
  "kernelspec": {
   "display_name": "Python 3",
   "language": "python",
   "name": "python3"
  },
  "language_info": {
   "codemirror_mode": {
    "name": "ipython",
    "version": 3
   },
   "file_extension": ".py",
   "mimetype": "text/x-python",
   "name": "python",
   "nbconvert_exporter": "python",
   "pygments_lexer": "ipython3",
   "version": "3.7.6"
  }
 },
 "nbformat": 4,
 "nbformat_minor": 2
}
